{
 "cells": [
  {
   "cell_type": "code",
   "execution_count": 1,
   "id": "f51ba464",
   "metadata": {},
   "outputs": [],
   "source": [
    "import moleculegraph\n",
    "import numpy as np\n",
    "from jinja2 import Template\n",
    "import toml "
   ]
  },
  {
   "cell_type": "markdown",
   "id": "a42cbec6",
   "metadata": {},
   "source": [
    "# Generate GROMACS inputs with moleculegraph\n",
    "\n",
    "This notebook shows generate GROMACS inputs with moleculegraph.\n",
    "\n",
    "## 1) Get moleculegraph\n",
    "\n",
    "Generate a moleculegraph object from a molecule string."
   ]
  },
  {
   "cell_type": "code",
   "execution_count": 6,
   "id": "543452e4",
   "metadata": {},
   "outputs": [
    {
     "data": {
      "image/png": "[encoded data removed]",
      "text/plain": [
       "<Figure size 432x288 with 1 Axes>"
      ]
     },
     "metadata": {},
     "output_type": "display_data"
    }
   ],
   "source": [
    "molecule_string = \"[H_O_end][O_end][C_end][C_mid][C_end][O_end][H_O_end]\"\n",
    "#molecule_string = \"[H_O_end][O_end][C_end][b1][H][b1][H][C_mid][b1][H_C_mid][b2][O_mid][H_O_mid][C_end][b1][H][b1][H][O_end][H_O_end]\"\n",
    "\n",
    "molecule = moleculegraph.molecule(molecule_string)\n",
    "\n",
    "molecule.visualize(saveto=\"test\")"
   ]
  },
  {
   "cell_type": "markdown",
   "id": "4206aad9",
   "metadata": {},
   "source": [
    "## 2) Get force field\n",
    "\n",
    "Get the force field in form of a dict.\n",
    "\n",
    "Here: from a toml file.\n",
    "\n",
    "Tipp: have a look on the force field toml and the obtained dict."
   ]
  },
  {
   "cell_type": "code",
   "execution_count": 7,
   "id": "352ebb26",
   "metadata": {
    "scrolled": true
   },
   "outputs": [],
   "source": [
    "ff_file = \"ff_test_GROMACS.toml\"\n",
    "with open(ff_file) as toml_file:\n",
    "    ff = toml.load(toml_file)\n",
    "\n",
    "#ff[\"atoms\"][\"H\"]\n",
    "#ff[\"bonds\"][\"[C_end][H]\"]"
   ]
  },
  {
   "cell_type": "markdown",
   "id": "d8e813f8",
   "metadata": {},
   "source": [
    "## 3) Map force field to molecule\n",
    "\n",
    "Now we can transport the information from our force field library to the positions where the information is needed in a specific molecule. Force field informationen from the dict are mapped to the molecule graph.\n",
    "\n",
    "Tipp: have a look on the renderdict."
   ]
  },
  {
   "cell_type": "code",
   "execution_count": 8,
   "id": "f978e136",
   "metadata": {},
   "outputs": [],
   "source": [
    "renderdict = {}\n",
    "\n",
    "atomtype_dummy             = molecule.map_molecule( molecule.unique_atom_keys, ff[\"atoms\"] )\n",
    "renderdict[\"atomtypes\"]    = list( zip( molecule.unique_atom_numbers+1, atomtype_dummy  ) ) \n",
    "\n",
    "bond_dummy                 = molecule.map_molecule( molecule.bond_keys , ff[\"bonds\"])\n",
    "renderdict[\"bonds\"]        = list( zip(molecule.bond_list+1, bond_dummy) )\n",
    " \n",
    "angle_dummy                = molecule.map_molecule( molecule.angle_keys , ff[\"angles\"] )\n",
    "renderdict[\"angles\"]       = list( zip(molecule.angle_list+1, angle_dummy) )\n",
    "\n",
    "dihedral_dummy             = molecule.map_molecule( molecule.torsion_keys , ff[\"dihedrals\"] )\n",
    "renderdict[\"dihedrals\"]    = list( zip(molecule.torsion_list+1, dihedral_dummy) )\n",
    "\n",
    "improper_dihedrals_dummy   = np.array(molecule.map_molecule( molecule.torsion_keys , ff[\"improper_dihedrals\"] ))\n",
    "p              = np.where( improper_dihedrals_dummy!=None )\n",
    "renderdict[\"improper_dihedrals\"] = list( zip(molecule.torsion_list[p]+1, improper_dihedrals_dummy[p]) )\n",
    "\n",
    "atom_dummy    = molecule.map_molecule( molecule.atom_names, ff[\"atoms\"] )\n",
    "gmx_atomnames = [ x[0]+str(i) for i,x in enumerate(molecule.atom_names) ]\n",
    "renderdict[\"atoms\"]    = list( zip( molecule.atom_numbers+1,gmx_atomnames, atom_dummy  ) ) \n",
    "\n",
    "renderdict[\"pairs\"] = np.array([ (x[0],x[-1]) for x in molecule.torsion_list+1 ])"
   ]
  },
  {
   "cell_type": "markdown",
   "id": "ae5eefbd",
   "metadata": {},
   "source": [
    "## 4) Render template\n",
    "\n",
    "Finally we can render a template with the molecule specific informations and our force field.\n",
    "\n",
    "Tipp: have a look on the the and compare template and the rendered result.\n"
   ]
  },
  {
   "cell_type": "code",
   "execution_count": 9,
   "id": "3f694306",
   "metadata": {},
   "outputs": [],
   "source": [
    "with open(\"GROMACS_template.itp\") as file_:\n",
    "    template = Template(file_.read())\n",
    "rendered = template.render( rd=renderdict ) #Textformat wie in template\n",
    "\n",
    "dummy = \"test.itp\"\n",
    "with open(dummy, \"w\") as fh:\n",
    "    fh.write(rendered) "
   ]
  },
  {
   "cell_type": "code",
   "execution_count": null,
   "id": "de4cb291",
   "metadata": {},
   "outputs": [],
   "source": []
  }
 ],
 "metadata": {
  "kernelspec": {
   "display_name": "Python 3 (ipykernel)",
   "language": "python",
   "name": "python3"
  },
  "language_info": {
   "codemirror_mode": {
    "name": "ipython",
    "version": 3
   },
   "file_extension": ".py",
   "mimetype": "text/x-python",
   "name": "python",
   "nbconvert_exporter": "python",
   "pygments_lexer": "ipython3",
   "version": "3.10.12"
  }
 },
 "nbformat": 4,
 "nbformat_minor": 5
}
